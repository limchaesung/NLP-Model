{
 "cells": [
  {
   "cell_type": "markdown",
   "id": "8aa78d4e",
   "metadata": {},
   "source": [
    "■ 아래 과정을 통해 로드된 data는 영화, 드라마, 배우, 게임 등에 관한 정보를 제공하는 온라인 데이터베이스인 imdb의 영화 리뷰 데이터이다. **train_sequences와 test_sequences는 tokenize를 통해 text를 정수로 변환한 결과**이며, **train_labels와 test_labels는 대응되는 sequences가 긍정 또는 부정 리뷰를 의미하는 0 또는 1 값**을 가지는 데이터이다.\n",
    "- tokenizer는 500개의 text를 정수로 변환하였다. (**vocabulary size는 500**이다.) \n",
    "- **양방향(Bidirectional) LSTM** 기반의 model을 생성하고 주어진 **train_sequences을 model 입력에 적절한 형태로 변형한 data와 train_labels**로 학습하시오.\n",
    "- **문장의 최대 길이, Embedding layer를 통과한 data의 dimension과 LSTM node의 수 등은 자유롭게 선정**하시오.\n",
    "- **test 데이터**에 대한 결과를 통해 **성능을 평가**하시오.\n",
    "- <strong><font color='red' style='bold'>주석을 이용하여 각 과정의 역할과 변수의 의미를 상세히 서술하시오.</font></strong>"
   ]
  },
  {
   "cell_type": "code",
   "execution_count": 1,
   "id": "db043cd0",
   "metadata": {},
   "outputs": [],
   "source": [
    "import numpy as np\n",
    "\n",
    "imdb = np.load('imdb.npz',allow_pickle=True)\n",
    "train_sequences = imdb['arr_0']\n",
    "train_labels = imdb['arr_1']\n",
    "test_sequences = imdb['arr_2']\n",
    "test_labels = imdb['arr_3']"
   ]
  },
  {
   "cell_type": "code",
   "execution_count": 2,
   "id": "e6051d08",
   "metadata": {},
   "outputs": [
    {
     "name": "stdout",
     "output_type": "stream",
     "text": [
      "WARNING:tensorflow:From C:\\ProgramData\\anaconda3\\Lib\\site-packages\\keras\\src\\losses.py:2976: The name tf.losses.sparse_softmax_cross_entropy is deprecated. Please use tf.compat.v1.losses.sparse_softmax_cross_entropy instead.\n",
      "\n"
     ]
    }
   ],
   "source": [
    "import json\n",
    "import urllib\n",
    "\n",
    "from tensorflow.keras.preprocessing.text import Tokenizer\n",
    "from tensorflow.keras.preprocessing.sequence import pad_sequences\n",
    "from tensorflow.keras.layers import Dense,Flatten,Embedding,LSTM,Bidirectional\n",
    "from tensorflow.keras.models import Sequential"
   ]
  },
  {
   "cell_type": "code",
   "execution_count": 4,
   "id": "68a53209",
   "metadata": {},
   "outputs": [
    {
     "name": "stdout",
     "output_type": "stream",
     "text": [
      "<numpy.lib.npyio.NpzFile object at 0x000001AB5C036290>\n"
     ]
    }
   ],
   "source": [
    "print(imdb)"
   ]
  },
  {
   "cell_type": "code",
   "execution_count": 14,
   "id": "eb5f973c",
   "metadata": {},
   "outputs": [],
   "source": [
    "vocab_size = 500\n",
    "oov = '<OOV>'\n",
    "\n",
    "token = Tokenizer(num_words=vocab_size,oov_token=oov)"
   ]
  },
  {
   "cell_type": "code",
   "execution_count": 21,
   "id": "8c895acf",
   "metadata": {},
   "outputs": [
    {
     "name": "stdout",
     "output_type": "stream",
     "text": [
      "[1, 2, 189, 438, 47, 110, 142, 7, 6, 2, 120, 4, 236, 378, 7, 153, 19, 87, 108, 141, 17, 2, 5, 2, 2, 2, 23, 8, 4, 136, 2, 2, 4, 2, 43, 2, 21, 2, 419, 5, 2, 120, 91, 2, 189, 2, 5, 9, 2, 31, 7, 4, 118, 2, 189, 108, 126, 93, 2, 16, 2, 324, 23, 6, 364, 352, 21, 14, 9, 93, 56, 18, 11, 230, 53, 2, 74, 31, 34, 4, 2, 7, 4, 22, 5, 14, 11, 471, 9, 2, 34, 4, 321, 487, 5, 116, 15, 2, 4, 22, 9, 6, 2, 4, 114, 2, 23, 107, 293, 2, 2, 5, 328, 2, 4, 2, 109, 9, 6, 132, 2, 2, 2, 8, 2, 18, 2, 29, 9, 276, 11, 6, 2, 19, 289, 409, 4, 2, 2, 2, 2, 2, 2, 2, 5, 27, 2, 2, 2, 103, 6, 346, 137, 11, 4, 2, 295, 36, 2, 2, 6, 2, 273, 11, 4, 2, 15, 2, 35, 154, 2, 103, 2, 173, 7, 12, 36, 2, 2, 94, 2, 2, 5, 2, 36, 203, 30, 2, 8, 361, 12, 8, 2, 143, 4, 2, 2, 10, 10, 328, 2, 9, 6, 55, 221, 2, 5, 146, 165, 179, 2, 15, 50, 2, 53, 108, 448, 23, 12, 17, 225, 38, 76, 2, 18, 183, 8, 81, 19, 12, 45, 2, 8, 135, 15, 2, 166, 4, 118, 7, 45, 2, 17, 466, 45, 2, 4, 22, 115, 165, 2, 2, 5, 2, 8, 2, 73, 469, 167, 2, 2, 2, 6, 87, 2, 18, 4, 22, 4, 192, 15, 91, 7, 12, 304, 273, 2, 4, 2, 2, 2, 2, 15, 4, 22, 2, 55, 2, 5, 14, 2, 2, 4, 2, 326, 7, 4, 2, 2, 8, 361, 2, 8, 2, 46, 7, 4, 2, 45, 55, 2, 8, 79, 496, 98, 45, 400, 301, 15, 4, 2, 9, 4, 155, 15, 66, 2, 84, 5, 14, 22, 2, 15, 17, 4, 167, 2, 15, 75, 70, 115, 66, 30, 252, 7, 2, 51, 9, 2, 4, 2, 5, 14, 2, 8, 2, 15, 2, 165, 127, 2, 8, 30, 179, 2, 4, 22, 9, 2, 18, 6, 176, 7, 2, 2, 4, 2, 114, 4, 105, 26, 32, 55, 221, 11, 68, 205, 96, 5, 4, 192, 15, 4, 274, 410, 220, 304, 23, 94, 205, 109, 9, 55, 73, 224, 259, 2, 15, 4, 22, 2, 2, 34, 4, 130, 2, 30, 2, 345, 17, 4, 277, 199, 166, 281, 5, 2, 8, 30, 179, 2, 444, 2, 9, 6, 371, 87, 189, 22, 5, 31, 7, 4, 118, 7, 4, 2, 2, 2, 2]\n"
     ]
    }
   ],
   "source": [
    "# train_sequences와 test_sequences는 tokenize를 통해 text를 정수로 변환한 결과\n",
    "# tokenize 과정 생략\n",
    "print(train_sequences[10])"
   ]
  },
  {
   "cell_type": "code",
   "execution_count": 23,
   "id": "c7aeff53",
   "metadata": {},
   "outputs": [
    {
     "name": "stdout",
     "output_type": "stream",
     "text": [
      "450\n"
     ]
    }
   ],
   "source": [
    "# 길이 출력\n",
    "\n",
    "print(len((train_sequences[10])))"
   ]
  },
  {
   "cell_type": "code",
   "execution_count": 24,
   "id": "bd523edc",
   "metadata": {},
   "outputs": [],
   "source": [
    "sen_len = 20\n",
    "train_pad = pad_sequences(train_sequences,maxlen=sen_len,\n",
    "                          truncating='post',padding='post')\n",
    "test_pad = pad_sequences(test_sequences,maxlen=sen_len,\n",
    "                         truncating='post',padding='post')"
   ]
  },
  {
   "cell_type": "code",
   "execution_count": 25,
   "id": "1a875e0d",
   "metadata": {},
   "outputs": [
    {
     "name": "stdout",
     "output_type": "stream",
     "text": [
      "[  1   2 189 438  47 110 142   7   6   2 120   4 236 378   7 153  19  87\n",
      " 108 141]\n",
      "<class 'numpy.ndarray'>\n"
     ]
    }
   ],
   "source": [
    "print(train_pad[10])\n",
    "print(type(train_pad))"
   ]
  },
  {
   "cell_type": "code",
   "execution_count": 26,
   "id": "2e227c6d",
   "metadata": {},
   "outputs": [],
   "source": [
    "train_y = np.array(train_labels)\n",
    "test_y= np.array(test_labels)"
   ]
  },
  {
   "cell_type": "code",
   "execution_count": 27,
   "id": "ba026232",
   "metadata": {},
   "outputs": [
    {
     "name": "stdout",
     "output_type": "stream",
     "text": [
      "WARNING:tensorflow:From C:\\ProgramData\\anaconda3\\Lib\\site-packages\\keras\\src\\backend.py:873: The name tf.get_default_graph is deprecated. Please use tf.compat.v1.get_default_graph instead.\n",
      "\n"
     ]
    }
   ],
   "source": [
    "emb_len = 16\n",
    "emb = Embedding(input_dim=vocab_size,output_dim=emb_len,input_length=sen_len)"
   ]
  },
  {
   "cell_type": "code",
   "execution_count": 28,
   "id": "48a186c7",
   "metadata": {},
   "outputs": [
    {
     "name": "stdout",
     "output_type": "stream",
     "text": [
      "[  1   2  11   2  17   2  14   2  78  20   9  38  78  15  25 413   2   5\n",
      "  28   8]\n",
      "tf.Tensor(\n",
      "[ 0.02103451 -0.04987377  0.02560497 -0.04413895  0.00321225  0.03465811\n",
      " -0.03201197  0.03006938  0.00541227  0.04335085 -0.00767789 -0.01658257\n",
      "  0.01846156  0.03015509 -0.03027681 -0.00879005], shape=(16,), dtype=float32)\n"
     ]
    }
   ],
   "source": [
    "print(train_pad[20])\n",
    "print(emb(train_pad[20])[0])"
   ]
  },
  {
   "cell_type": "code",
   "execution_count": 29,
   "id": "ae83c8ed",
   "metadata": {},
   "outputs": [],
   "source": [
    "NLP_model = Sequential([\n",
    "    # 첫 번째 layer는 embedding layer\n",
    "    emb,\n",
    "    # LSTM\n",
    "    Bidirectional(LSTM(64,return_sequences=True)),\n",
    "    Bidirectional(LSTM(64)),\n",
    "    # MLP\n",
    "    Dense(32,activation='relu'),\n",
    "    Dense(1,activation='sigmoid')\n",
    "    # binary classification의 경우, output layer의 node를 1로 설정할 수 있음\n",
    "])"
   ]
  },
  {
   "cell_type": "code",
   "execution_count": 30,
   "id": "d96383fa",
   "metadata": {},
   "outputs": [
    {
     "name": "stdout",
     "output_type": "stream",
     "text": [
      "Model: \"sequential\"\n",
      "_________________________________________________________________\n",
      " Layer (type)                Output Shape              Param #   \n",
      "=================================================================\n",
      " embedding (Embedding)       (None, 20, 16)            8000      \n",
      "                                                                 \n",
      " bidirectional (Bidirection  (None, 20, 128)           41472     \n",
      " al)                                                             \n",
      "                                                                 \n",
      " bidirectional_1 (Bidirecti  (None, 128)               98816     \n",
      " onal)                                                           \n",
      "                                                                 \n",
      " dense (Dense)               (None, 32)                4128      \n",
      "                                                                 \n",
      " dense_1 (Dense)             (None, 1)                 33        \n",
      "                                                                 \n",
      "=================================================================\n",
      "Total params: 152449 (595.50 KB)\n",
      "Trainable params: 152449 (595.50 KB)\n",
      "Non-trainable params: 0 (0.00 Byte)\n",
      "_________________________________________________________________\n"
     ]
    }
   ],
   "source": [
    "NLP_model.summary()"
   ]
  },
  {
   "cell_type": "code",
   "execution_count": 31,
   "id": "8aec7f9f",
   "metadata": {},
   "outputs": [
    {
     "name": "stdout",
     "output_type": "stream",
     "text": [
      "WARNING:tensorflow:From C:\\ProgramData\\anaconda3\\Lib\\site-packages\\keras\\src\\optimizers\\__init__.py:309: The name tf.train.Optimizer is deprecated. Please use tf.compat.v1.train.Optimizer instead.\n",
      "\n"
     ]
    }
   ],
   "source": [
    "NLP_model.compile(optimizer='adam',loss='binary_crossentropy',metrics=['acc'])"
   ]
  },
  {
   "cell_type": "code",
   "execution_count": 32,
   "id": "98a89e90",
   "metadata": {},
   "outputs": [
    {
     "data": {
      "text/plain": [
       "numpy.ndarray"
      ]
     },
     "execution_count": 32,
     "metadata": {},
     "output_type": "execute_result"
    }
   ],
   "source": [
    "type(train_labels)"
   ]
  },
  {
   "cell_type": "code",
   "execution_count": 33,
   "id": "840e9153",
   "metadata": {},
   "outputs": [
    {
     "name": "stdout",
     "output_type": "stream",
     "text": [
      "Epoch 1/10\n",
      "WARNING:tensorflow:From C:\\ProgramData\\anaconda3\\Lib\\site-packages\\keras\\src\\utils\\tf_utils.py:492: The name tf.ragged.RaggedTensorValue is deprecated. Please use tf.compat.v1.ragged.RaggedTensorValue instead.\n",
      "\n",
      "WARNING:tensorflow:From C:\\ProgramData\\anaconda3\\Lib\\site-packages\\keras\\src\\engine\\base_layer_utils.py:384: The name tf.executing_eagerly_outside_functions is deprecated. Please use tf.compat.v1.executing_eagerly_outside_functions instead.\n",
      "\n",
      "110/110 [==============================] - 7s 21ms/step - loss: 0.6912 - acc: 0.5126 - val_loss: 0.7106 - val_acc: 0.5407\n",
      "Epoch 2/10\n",
      "110/110 [==============================] - 1s 10ms/step - loss: 0.6360 - acc: 0.6366 - val_loss: 0.6485 - val_acc: 0.6047\n",
      "Epoch 3/10\n",
      "110/110 [==============================] - 1s 10ms/step - loss: 0.5824 - acc: 0.6920 - val_loss: 0.6452 - val_acc: 0.6073\n",
      "Epoch 4/10\n",
      "110/110 [==============================] - 1s 10ms/step - loss: 0.5525 - acc: 0.7166 - val_loss: 0.6692 - val_acc: 0.6080\n",
      "Epoch 5/10\n",
      "110/110 [==============================] - 1s 10ms/step - loss: 0.5323 - acc: 0.7417 - val_loss: 0.6689 - val_acc: 0.5960\n",
      "Epoch 6/10\n",
      "110/110 [==============================] - 1s 10ms/step - loss: 0.5165 - acc: 0.7469 - val_loss: 0.6816 - val_acc: 0.5960\n",
      "Epoch 7/10\n",
      "110/110 [==============================] - 1s 10ms/step - loss: 0.4963 - acc: 0.7626 - val_loss: 0.7274 - val_acc: 0.5973\n",
      "Epoch 8/10\n",
      "110/110 [==============================] - 1s 10ms/step - loss: 0.4772 - acc: 0.7737 - val_loss: 0.7169 - val_acc: 0.6013\n",
      "Epoch 9/10\n",
      "110/110 [==============================] - 1s 11ms/step - loss: 0.4589 - acc: 0.7837 - val_loss: 0.7664 - val_acc: 0.6047\n",
      "Epoch 10/10\n",
      "110/110 [==============================] - 1s 10ms/step - loss: 0.4442 - acc: 0.7980 - val_loss: 0.9112 - val_acc: 0.6007\n"
     ]
    }
   ],
   "source": [
    "result = NLP_model.fit(train_pad,train_y,\n",
    "                       epochs=10,batch_size=32,\n",
    "                       validation_split=0.3)"
   ]
  },
  {
   "cell_type": "code",
   "execution_count": 34,
   "id": "9c6282c8",
   "metadata": {},
   "outputs": [
    {
     "name": "stdout",
     "output_type": "stream",
     "text": [
      "32/32 [==============================] - 0s 4ms/step - loss: 0.8679 - acc: 0.5960\n"
     ]
    },
    {
     "data": {
      "text/plain": [
       "[0.8679298758506775, 0.5960000157356262]"
      ]
     },
     "execution_count": 34,
     "metadata": {},
     "output_type": "execute_result"
    }
   ],
   "source": [
    "# 성능 평가\n",
    "\n",
    "NLP_model.evaluate(test_pad,test_y)"
   ]
  },
  {
   "cell_type": "code",
   "execution_count": 35,
   "id": "96377e6c",
   "metadata": {},
   "outputs": [
    {
     "data": {
      "text/plain": [
       "<matplotlib.legend.Legend at 0x1ab79bb44d0>"
      ]
     },
     "execution_count": 35,
     "metadata": {},
     "output_type": "execute_result"
    },
    {
     "data": {
      "image/png": "[encoded data removed]",
      "text/plain": [
       "<Figure size 640x480 with 2 Axes>"
      ]
     },
     "metadata": {},
     "output_type": "display_data"
    }
   ],
   "source": [
    "import matplotlib.pyplot as plt\n",
    "plt.subplot(121)\n",
    "plt.plot(result.history['loss'],label='training')\n",
    "plt.plot(result.history['val_loss'],label='test')\n",
    "plt.title('Loss')\n",
    "plt.legend()\n",
    "\n",
    "plt.subplot(122)\n",
    "plt.plot(result.history['acc'],label='training')\n",
    "plt.plot(result.history['val_acc'],label='test')\n",
    "plt.title('Accuracy')\n",
    "plt.legend()"
   ]
  },
  {
   "cell_type": "code",
   "execution_count": null,
   "id": "429c2b14",
   "metadata": {},
   "outputs": [],
   "source": []
  }
 ],
 "metadata": {
  "kernelspec": {
   "display_name": "Python 3 (ipykernel)",
   "language": "python",
   "name": "python3"
  },
  "language_info": {
   "codemirror_mode": {
    "name": "ipython",
    "version": 3
   },
   "file_extension": ".py",
   "mimetype": "text/x-python",
   "name": "python",
   "nbconvert_exporter": "python",
   "pygments_lexer": "ipython3",
   "version": "3.9.12"
  }
 },
 "nbformat": 4,
 "nbformat_minor": 5
}
